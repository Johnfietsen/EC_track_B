{
 "cells": [
  {
   "cell_type": "code",
   "execution_count": 1,
   "metadata": {},
   "outputs": [],
   "source": [
    "import numpy as np\n",
    "import scipy as sc\n",
    "import pandas as pd\n",
    "import matplotlib.pyplot as plt "
   ]
  },
  {
   "cell_type": "markdown",
   "metadata": {},
   "source": [
    "### Setup\n",
    "* **path** - variable, which refers to path with robot's csv files\n",
    "* **start** - index of first robot's csv file\n",
    "* **end** - index of last robot's csv file (open interval, it should be (last + 1) )\n",
    "* **experiments** - number of experiments"
   ]
  },
  {
   "cell_type": "code",
   "execution_count": 21,
   "metadata": {},
   "outputs": [],
   "source": [
    "path = '../data/re3simro21..30/'\n",
    "start = 21 \n",
    "end = 31\n",
    "experiments = 3"
   ]
  },
  {
   "cell_type": "markdown",
   "metadata": {},
   "source": [
    "### Load data from csv file"
   ]
  },
  {
   "cell_type": "code",
   "execution_count": 50,
   "metadata": {
    "scrolled": true
   },
   "outputs": [
    {
     "data": {
      "text/plain": [
       "2001"
      ]
     },
     "execution_count": 50,
     "metadata": {},
     "output_type": "execute_result"
    }
   ],
   "source": [
    "data = []\n",
    "names = []\n",
    "for i in range(start, 27):\n",
    "    for ex in range(1,  experiments + 1):\n",
    "        filename = 'robot_{}-{}.csv'.format(i,ex) # creating filename\n",
    "        \n",
    "        temp = np.genfromtxt(path + filename, delimiter=',') #loading data from file\n",
    "        temp = temp[~np.isnan(temp)] # deleting last nan value, because the file contains comma after last value\n",
    "        # so it reads it as nan value, but there is actually no value\n",
    "        data.append(temp)\n",
    "        names.append(filename.split(\".\")[0]) # we want to omit .csv ending\n",
    "        \n",
    "data = pd.DataFrame(dict(zip(names, data)), columns=names)\n",
    "np.genfromtxt(path + 'robot_28-1.csv', delimiter=',').size\n"
   ]
  },
  {
   "cell_type": "code",
   "execution_count": null,
   "metadata": {},
   "outputs": [],
   "source": []
  }
 ],
 "metadata": {
  "kernelspec": {
   "display_name": "Python 3",
   "language": "python",
   "name": "python3"
  },
  "language_info": {
   "codemirror_mode": {
    "name": "ipython",
    "version": 3
   },
   "file_extension": ".py",
   "mimetype": "text/x-python",
   "name": "python",
   "nbconvert_exporter": "python",
   "pygments_lexer": "ipython3",
   "version": "3.6.6"
  }
 },
 "nbformat": 4,
 "nbformat_minor": 2
}
