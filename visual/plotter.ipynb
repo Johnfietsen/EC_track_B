{
 "cells": [
  {
   "cell_type": "code",
   "execution_count": 2,
   "metadata": {},
   "outputs": [],
   "source": [
    "import numpy as np\n",
    "import scipy as sc\n",
    "import pandas as pd\n",
    "import matplotlib.pyplot as plt \n",
    "plt.rcParams['figure.figsize'] = [15, 10]"
   ]
  },
  {
   "cell_type": "markdown",
   "metadata": {},
   "source": [
    "### Setup\n",
    "* **path** - variable, which refers to path with robot's csv files\n",
    "* **start** - index of first robot's csv file\n",
    "* **end** - index of last robot's csv file (open interval, it should be (last + 1) )\n",
    "* **experiments** - number of experiments"
   ]
  },
  {
   "cell_type": "code",
   "execution_count": 3,
   "metadata": {},
   "outputs": [],
   "source": [
    "path = '../data/re3simro21..30/'\n",
    "start = 21 \n",
    "end = 31\n",
    "experiments = 3"
   ]
  },
  {
   "cell_type": "markdown",
   "metadata": {},
   "source": [
    "### Load data from csv file"
   ]
  },
  {
   "cell_type": "code",
   "execution_count": 4,
   "metadata": {
    "scrolled": true
   },
   "outputs": [],
   "source": [
    "data = []\n",
    "names = []\n",
    "for i in range(start, end):\n",
    "    for ex in range(1,  experiments + 1):\n",
    "        filename = 'robot_{}-{}.csv'.format(i,ex) # creating filename\n",
    "        \n",
    "        temp = np.genfromtxt(path + filename, delimiter=',') #loading data from file\n",
    "        temp = temp[~np.isnan(temp)] # deleting last nan value, because the file contains comma after last value\n",
    "        # so it reads it as nan value, but there is actually no value\n",
    "        data.append(temp)\n",
    "        names.append(filename.split(\".\")[0].split(\"_\")[1]) # we want to omit .csv ending and robot prefix\n",
    "        \n",
    "data = pd.DataFrame(dict(zip(names, data)), columns=names)"
   ]
  },
  {
   "cell_type": "markdown",
   "metadata": {},
   "source": [
    "### Plotting the robots from table"
   ]
  },
  {
   "cell_type": "code",
   "execution_count": 13,
   "metadata": {
    "scrolled": false
   },
   "outputs": [
    {
     "data": {
      "image/png": "[encoded data removed]",
      "text/plain": [
       "<Figure size 432x288 with 2 Axes>"
      ]
     },
     "metadata": {
      "needs_background": "light"
     },
     "output_type": "display_data"
    },
    {
     "ename": "NameError",
     "evalue": "name 'size' is not defined",
     "output_type": "error",
     "traceback": [
      "\u001b[0;31m---------------------------------------------------------------------------\u001b[0m",
      "\u001b[0;31mNameError\u001b[0m                                 Traceback (most recent call last)",
      "\u001b[0;32m<ipython-input-13-8416f400efa1>\u001b[0m in \u001b[0;36m<module>\u001b[0;34m()\u001b[0m\n\u001b[1;32m     29\u001b[0m     \u001b[0mAverage\u001b[0m \u001b[0mGradient\u001b[0m \u001b[0;34m(\u001b[0m\u001b[0mwithout\u001b[0m \u001b[0moutliers\u001b[0m\u001b[0;34m)\u001b[0m\u001b[0;34m:\u001b[0m      \u001b[0;34m{\u001b[0m\u001b[0;34m}\u001b[0m\u001b[0;34m\u001b[0m\u001b[0m\n\u001b[1;32m     30\u001b[0m     \u001b[0mDiff\u001b[0m \u001b[0;34m(\u001b[0m\u001b[0mlast\u001b[0m \u001b[0;34m-\u001b[0m \u001b[0mfirst\u001b[0m\u001b[0;34m)\u001b[0m\u001b[0;34m:\u001b[0m                      \u001b[0;34m{\u001b[0m\u001b[0;34m}\u001b[0m\u001b[0;34m\u001b[0m\u001b[0m\n\u001b[0;32m---> 31\u001b[0;31m     \"\"\".format(data[size].count, \n\u001b[0m\u001b[1;32m     32\u001b[0m                \u001b[0mdata\u001b[0m\u001b[0;34m[\u001b[0m\u001b[0mrobot\u001b[0m\u001b[0;34m]\u001b[0m\u001b[0;34m.\u001b[0m\u001b[0mmean\u001b[0m\u001b[0;34m(\u001b[0m\u001b[0;34m)\u001b[0m\u001b[0;34m,\u001b[0m\u001b[0;34m\u001b[0m\u001b[0m\n\u001b[1;32m     33\u001b[0m                \u001b[0mdata\u001b[0m\u001b[0;34m[\u001b[0m\u001b[0mrobot\u001b[0m\u001b[0;34m]\u001b[0m\u001b[0;34m.\u001b[0m\u001b[0mstd\u001b[0m\u001b[0;34m(\u001b[0m\u001b[0;34m)\u001b[0m\u001b[0;34m,\u001b[0m\u001b[0;34m\u001b[0m\u001b[0m\n",
      "\u001b[0;31mNameError\u001b[0m: name 'size' is not defined"
     ]
    }
   ],
   "source": [
    "for robot in data.columns:\n",
    "    \n",
    "    x = np.arange(0, data.shape[0])\n",
    "    \n",
    "    plt.subplot(2, 1, 1)\n",
    "    plt.title(\"Plotting: {}\".format(robot))\n",
    "    plt.plot(x, data[robot], 'o')\n",
    "    \n",
    "    \n",
    "    #Get 10 group means and then plot\n",
    "    g10 = data[robot].values.reshape((-1,10))\n",
    "    g10 = g10.mean(axis=1)\n",
    "    \n",
    "    plt.subplot(2, 1, 2)\n",
    "    plt.title(\"Plotting: {}\".format(robot))\n",
    "    plt.plot(np.arange(0, g10.size), g10)\n",
    "    \n",
    "    plt.show()\n",
    "    \n",
    "    \n",
    "    \n",
    "    \n",
    "    print(\"\"\"\n",
    "    Number of points plotted:                 {}\n",
    "    Mean:                                     {}\n",
    "    std:                                      {}\n",
    "    Maximmum value:                           {}\n",
    "    MAximmum value in generation:             {}\n",
    "    Average Gradient (without outliers):      {}\n",
    "    Diff (last - first):                      {}\n",
    "    \"\"\".format(data[size].count, \n",
    "               data[robot].mean(), \n",
    "               data[robot].std(), \n",
    "               data[robot].max(),\n",
    "               data[robot].idxmax(),\n",
    "               np.gradient(data[robot].as_matrix()).mean(),\n",
    "               (data[robot].iloc[-1] - data[robot].iloc[0])\n",
    "              ))"
   ]
  },
  {
   "cell_type": "code",
   "execution_count": 12,
   "metadata": {
    "scrolled": true
   },
   "outputs": [
    {
     "data": {
      "text/plain": [
       "(1000, 30)"
      ]
     },
     "execution_count": 12,
     "metadata": {},
     "output_type": "execute_result"
    }
   ],
   "source": []
  },
  {
   "cell_type": "code",
   "execution_count": null,
   "metadata": {},
   "outputs": [],
   "source": []
  }
 ],
 "metadata": {
  "kernelspec": {
   "display_name": "Python 3",
   "language": "python",
   "name": "python3"
  },
  "language_info": {
   "codemirror_mode": {
    "name": "ipython",
    "version": 3
   },
   "file_extension": ".py",
   "mimetype": "text/x-python",
   "name": "python",
   "nbconvert_exporter": "python",
   "pygments_lexer": "ipython3",
   "version": "3.6.6"
  }
 },
 "nbformat": 4,
 "nbformat_minor": 2
}
